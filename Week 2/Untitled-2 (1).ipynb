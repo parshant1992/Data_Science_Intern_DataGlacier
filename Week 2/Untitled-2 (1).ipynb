{
 "cells": [
  {
   "cell_type": "code",
   "execution_count": 1,
   "metadata": {},
   "outputs": [],
   "source": [
    "# Import necessary libraries\n",
    "import pandas as pd\n",
    "import numpy as np\n",
    "from sklearn.model_selection import train_test_split\n",
    "from sklearn.linear_model import LinearRegression\n",
    "from sklearn.metrics import mean_squared_error, r2_score\n",
    "from sklearn.preprocessing import StandardScaler"
   ]
  },
  {
   "cell_type": "code",
   "execution_count": 2,
   "metadata": {},
   "outputs": [
    {
     "data": {
      "text/html": [
       "<div>\n",
       "<style scoped>\n",
       "    .dataframe tbody tr th:only-of-type {\n",
       "        vertical-align: middle;\n",
       "    }\n",
       "\n",
       "    .dataframe tbody tr th {\n",
       "        vertical-align: top;\n",
       "    }\n",
       "\n",
       "    .dataframe thead th {\n",
       "        text-align: right;\n",
       "    }\n",
       "</style>\n",
       "<table border=\"1\" class=\"dataframe\">\n",
       "  <thead>\n",
       "    <tr style=\"text-align: right;\">\n",
       "      <th></th>\n",
       "      <th>Country</th>\n",
       "      <th>Year</th>\n",
       "      <th>Happiness Score</th>\n",
       "      <th>Log GDP per capita</th>\n",
       "      <th>Social support</th>\n",
       "      <th>Healthy life expectancy at birth</th>\n",
       "      <th>Freedom to make life choices</th>\n",
       "      <th>Generosity</th>\n",
       "      <th>Perceptions of corruption</th>\n",
       "      <th>CPI %</th>\n",
       "      <th>Unemployment Rate</th>\n",
       "      <th>region</th>\n",
       "      <th>Development_Status</th>\n",
       "    </tr>\n",
       "  </thead>\n",
       "  <tbody>\n",
       "    <tr>\n",
       "      <th>0</th>\n",
       "      <td>Argentina</td>\n",
       "      <td>2010</td>\n",
       "      <td>6.441</td>\n",
       "      <td>10.066</td>\n",
       "      <td>0.927</td>\n",
       "      <td>66.30</td>\n",
       "      <td>0.730</td>\n",
       "      <td>-0.129</td>\n",
       "      <td>0.855</td>\n",
       "      <td>0.0</td>\n",
       "      <td>7.71</td>\n",
       "      <td>South America</td>\n",
       "      <td>Developed</td>\n",
       "    </tr>\n",
       "    <tr>\n",
       "      <th>1</th>\n",
       "      <td>Argentina</td>\n",
       "      <td>2011</td>\n",
       "      <td>6.776</td>\n",
       "      <td>10.112</td>\n",
       "      <td>0.889</td>\n",
       "      <td>66.42</td>\n",
       "      <td>0.816</td>\n",
       "      <td>-0.178</td>\n",
       "      <td>0.755</td>\n",
       "      <td>0.0</td>\n",
       "      <td>7.18</td>\n",
       "      <td>South America</td>\n",
       "      <td>Developed</td>\n",
       "    </tr>\n",
       "    <tr>\n",
       "      <th>2</th>\n",
       "      <td>Argentina</td>\n",
       "      <td>2012</td>\n",
       "      <td>6.468</td>\n",
       "      <td>10.091</td>\n",
       "      <td>0.902</td>\n",
       "      <td>66.54</td>\n",
       "      <td>0.747</td>\n",
       "      <td>-0.151</td>\n",
       "      <td>0.817</td>\n",
       "      <td>0.0</td>\n",
       "      <td>7.22</td>\n",
       "      <td>South America</td>\n",
       "      <td>Developed</td>\n",
       "    </tr>\n",
       "    <tr>\n",
       "      <th>3</th>\n",
       "      <td>Argentina</td>\n",
       "      <td>2013</td>\n",
       "      <td>6.582</td>\n",
       "      <td>10.103</td>\n",
       "      <td>0.910</td>\n",
       "      <td>66.66</td>\n",
       "      <td>0.737</td>\n",
       "      <td>-0.134</td>\n",
       "      <td>0.823</td>\n",
       "      <td>0.0</td>\n",
       "      <td>7.10</td>\n",
       "      <td>South America</td>\n",
       "      <td>Developed</td>\n",
       "    </tr>\n",
       "    <tr>\n",
       "      <th>4</th>\n",
       "      <td>Argentina</td>\n",
       "      <td>2014</td>\n",
       "      <td>6.671</td>\n",
       "      <td>10.067</td>\n",
       "      <td>0.918</td>\n",
       "      <td>66.78</td>\n",
       "      <td>0.745</td>\n",
       "      <td>-0.168</td>\n",
       "      <td>0.854</td>\n",
       "      <td>0.0</td>\n",
       "      <td>7.27</td>\n",
       "      <td>South America</td>\n",
       "      <td>Developed</td>\n",
       "    </tr>\n",
       "  </tbody>\n",
       "</table>\n",
       "</div>"
      ],
      "text/plain": [
       "     Country  Year  Happiness Score  Log GDP per capita  Social support  \\\n",
       "0  Argentina  2010            6.441              10.066           0.927   \n",
       "1  Argentina  2011            6.776              10.112           0.889   \n",
       "2  Argentina  2012            6.468              10.091           0.902   \n",
       "3  Argentina  2013            6.582              10.103           0.910   \n",
       "4  Argentina  2014            6.671              10.067           0.918   \n",
       "\n",
       "   Healthy life expectancy at birth  Freedom to make life choices  Generosity  \\\n",
       "0                             66.30                         0.730      -0.129   \n",
       "1                             66.42                         0.816      -0.178   \n",
       "2                             66.54                         0.747      -0.151   \n",
       "3                             66.66                         0.737      -0.134   \n",
       "4                             66.78                         0.745      -0.168   \n",
       "\n",
       "   Perceptions of corruption  CPI %  Unemployment Rate         region  \\\n",
       "0                      0.855    0.0               7.71  South America   \n",
       "1                      0.755    0.0               7.18  South America   \n",
       "2                      0.817    0.0               7.22  South America   \n",
       "3                      0.823    0.0               7.10  South America   \n",
       "4                      0.854    0.0               7.27  South America   \n",
       "\n",
       "  Development_Status  \n",
       "0          Developed  \n",
       "1          Developed  \n",
       "2          Developed  \n",
       "3          Developed  \n",
       "4          Developed  "
      ]
     },
     "execution_count": 2,
     "metadata": {},
     "output_type": "execute_result"
    }
   ],
   "source": [
    "data = pd.read_csv('Developed_nations.csv')\n",
    "data.head()"
   ]
  },
  {
   "cell_type": "code",
   "execution_count": 3,
   "metadata": {},
   "outputs": [],
   "source": [
    "# Identify and handle missing values\n",
    "data = data.replace('Null', np.nan)"
   ]
  },
  {
   "cell_type": "code",
   "execution_count": 4,
   "metadata": {},
   "outputs": [
    {
     "data": {
      "text/plain": [
       "Country                              object\n",
       "Year                                  int64\n",
       "Happiness Score                     float64\n",
       "Log GDP per capita                  float64\n",
       "Social support                      float64\n",
       "Healthy life expectancy at birth    float64\n",
       "Freedom to make life choices        float64\n",
       "Generosity                          float64\n",
       "Perceptions of corruption           float64\n",
       "CPI %                               float64\n",
       "Unemployment Rate                   float64\n",
       "region                               object\n",
       "Development_Status                   object\n",
       "dtype: object"
      ]
     },
     "execution_count": 4,
     "metadata": {},
     "output_type": "execute_result"
    }
   ],
   "source": [
    "data.dtypes\n"
   ]
  },
  {
   "cell_type": "code",
   "execution_count": 5,
   "metadata": {},
   "outputs": [],
   "source": [
    "# Create a dictionary to specify the columns and their new data types\n",
    "column_data_types = {'Log GDP per capita': float, 'Social support': float, 'Healthy life expectancy at birth': float, 'Freedom to make life choices': float,\n",
    "                     'Generosity': float, 'Perceptions of corruption': float, 'CPI %': float,'Unemployment Rate': float}"
   ]
  },
  {
   "cell_type": "code",
   "execution_count": 6,
   "metadata": {},
   "outputs": [],
   "source": [
    "# Use the dictionary to change the data types of multiple columns at once\n",
    "df = data.astype(column_data_types)\n"
   ]
  },
  {
   "cell_type": "code",
   "execution_count": 7,
   "metadata": {},
   "outputs": [],
   "source": [
    "# Define your independent variables (features) and the dependent variable (happiness scores)\n",
    "X = data[['Log GDP per capita', 'Social support', 'Healthy life expectancy at birth', 'Freedom to make life choices', 'Generosity', 'Perceptions of corruption', 'CPI %', 'Unemployment Rate']]\n",
    "\n",
    "\n",
    "y = data['Happiness Score']\n"
   ]
  },
  {
   "cell_type": "code",
   "execution_count": 8,
   "metadata": {},
   "outputs": [],
   "source": [
    "# Split the data into training and testing sets\n",
    "X_train, X_test, y_train, y_test = train_test_split(X, y, test_size=0.2, random_state=42)\n"
   ]
  },
  {
   "cell_type": "code",
   "execution_count": 9,
   "metadata": {},
   "outputs": [],
   "source": [
    "# Standardize the features (optional, but can be helpful)\n",
    "scaler = StandardScaler()\n",
    "X_train = scaler.fit_transform(X_train)\n",
    "X_test = scaler.transform(X_test)"
   ]
  },
  {
   "cell_type": "code",
   "execution_count": 10,
   "metadata": {},
   "outputs": [
    {
     "data": {
      "text/html": [
       "<style>#sk-container-id-1 {color: black;background-color: white;}#sk-container-id-1 pre{padding: 0;}#sk-container-id-1 div.sk-toggleable {background-color: white;}#sk-container-id-1 label.sk-toggleable__label {cursor: pointer;display: block;width: 100%;margin-bottom: 0;padding: 0.3em;box-sizing: border-box;text-align: center;}#sk-container-id-1 label.sk-toggleable__label-arrow:before {content: \"▸\";float: left;margin-right: 0.25em;color: #696969;}#sk-container-id-1 label.sk-toggleable__label-arrow:hover:before {color: black;}#sk-container-id-1 div.sk-estimator:hover label.sk-toggleable__label-arrow:before {color: black;}#sk-container-id-1 div.sk-toggleable__content {max-height: 0;max-width: 0;overflow: hidden;text-align: left;background-color: #f0f8ff;}#sk-container-id-1 div.sk-toggleable__content pre {margin: 0.2em;color: black;border-radius: 0.25em;background-color: #f0f8ff;}#sk-container-id-1 input.sk-toggleable__control:checked~div.sk-toggleable__content {max-height: 200px;max-width: 100%;overflow: auto;}#sk-container-id-1 input.sk-toggleable__control:checked~label.sk-toggleable__label-arrow:before {content: \"▾\";}#sk-container-id-1 div.sk-estimator input.sk-toggleable__control:checked~label.sk-toggleable__label {background-color: #d4ebff;}#sk-container-id-1 div.sk-label input.sk-toggleable__control:checked~label.sk-toggleable__label {background-color: #d4ebff;}#sk-container-id-1 input.sk-hidden--visually {border: 0;clip: rect(1px 1px 1px 1px);clip: rect(1px, 1px, 1px, 1px);height: 1px;margin: -1px;overflow: hidden;padding: 0;position: absolute;width: 1px;}#sk-container-id-1 div.sk-estimator {font-family: monospace;background-color: #f0f8ff;border: 1px dotted black;border-radius: 0.25em;box-sizing: border-box;margin-bottom: 0.5em;}#sk-container-id-1 div.sk-estimator:hover {background-color: #d4ebff;}#sk-container-id-1 div.sk-parallel-item::after {content: \"\";width: 100%;border-bottom: 1px solid gray;flex-grow: 1;}#sk-container-id-1 div.sk-label:hover label.sk-toggleable__label {background-color: #d4ebff;}#sk-container-id-1 div.sk-serial::before {content: \"\";position: absolute;border-left: 1px solid gray;box-sizing: border-box;top: 0;bottom: 0;left: 50%;z-index: 0;}#sk-container-id-1 div.sk-serial {display: flex;flex-direction: column;align-items: center;background-color: white;padding-right: 0.2em;padding-left: 0.2em;position: relative;}#sk-container-id-1 div.sk-item {position: relative;z-index: 1;}#sk-container-id-1 div.sk-parallel {display: flex;align-items: stretch;justify-content: center;background-color: white;position: relative;}#sk-container-id-1 div.sk-item::before, #sk-container-id-1 div.sk-parallel-item::before {content: \"\";position: absolute;border-left: 1px solid gray;box-sizing: border-box;top: 0;bottom: 0;left: 50%;z-index: -1;}#sk-container-id-1 div.sk-parallel-item {display: flex;flex-direction: column;z-index: 1;position: relative;background-color: white;}#sk-container-id-1 div.sk-parallel-item:first-child::after {align-self: flex-end;width: 50%;}#sk-container-id-1 div.sk-parallel-item:last-child::after {align-self: flex-start;width: 50%;}#sk-container-id-1 div.sk-parallel-item:only-child::after {width: 0;}#sk-container-id-1 div.sk-dashed-wrapped {border: 1px dashed gray;margin: 0 0.4em 0.5em 0.4em;box-sizing: border-box;padding-bottom: 0.4em;background-color: white;}#sk-container-id-1 div.sk-label label {font-family: monospace;font-weight: bold;display: inline-block;line-height: 1.2em;}#sk-container-id-1 div.sk-label-container {text-align: center;}#sk-container-id-1 div.sk-container {/* jupyter's `normalize.less` sets `[hidden] { display: none; }` but bootstrap.min.css set `[hidden] { display: none !important; }` so we also need the `!important` here to be able to override the default hidden behavior on the sphinx rendered scikit-learn.org. See: https://github.com/scikit-learn/scikit-learn/issues/21755 */display: inline-block !important;position: relative;}#sk-container-id-1 div.sk-text-repr-fallback {display: none;}</style><div id=\"sk-container-id-1\" class=\"sk-top-container\"><div class=\"sk-text-repr-fallback\"><pre>LinearRegression()</pre><b>In a Jupyter environment, please rerun this cell to show the HTML representation or trust the notebook. <br />On GitHub, the HTML representation is unable to render, please try loading this page with nbviewer.org.</b></div><div class=\"sk-container\" hidden><div class=\"sk-item\"><div class=\"sk-estimator sk-toggleable\"><input class=\"sk-toggleable__control sk-hidden--visually\" id=\"sk-estimator-id-1\" type=\"checkbox\" checked><label for=\"sk-estimator-id-1\" class=\"sk-toggleable__label sk-toggleable__label-arrow\">LinearRegression</label><div class=\"sk-toggleable__content\"><pre>LinearRegression()</pre></div></div></div></div></div>"
      ],
      "text/plain": [
       "LinearRegression()"
      ]
     },
     "execution_count": 10,
     "metadata": {},
     "output_type": "execute_result"
    }
   ],
   "source": [
    "# Create and fit the linear regression model\n",
    "model = LinearRegression()\n",
    "model.fit(X_train, y_train)"
   ]
  },
  {
   "cell_type": "code",
   "execution_count": 11,
   "metadata": {},
   "outputs": [
    {
     "name": "stdout",
     "output_type": "stream",
     "text": [
      "Intercept:  6.5638190709046444\n",
      "Coefficients:\n"
     ]
    },
    {
     "data": {
      "text/plain": [
       "[('Log GDP per capita', 0.09725067105707524),\n",
       " ('Social support', 0.22989481811653611),\n",
       " ('Healthy life expectancy at birth', 0.22385563339809206),\n",
       " ('Freedom to make life choices', 0.09501987409569261),\n",
       " ('Generosity', 0.1934337912752156),\n",
       " ('Perceptions of corruption', -0.17615328599824617),\n",
       " ('CPI %', -0.03369280626368953),\n",
       " ('Unemployment Rate', -0.11420103628261372)]"
      ]
     },
     "execution_count": 11,
     "metadata": {},
     "output_type": "execute_result"
    }
   ],
   "source": [
    "print(\"Intercept: \", model.intercept_)\n",
    "print(\"Coefficients:\")\n",
    "list(zip(X, model.coef_))"
   ]
  },
  {
   "cell_type": "code",
   "execution_count": 12,
   "metadata": {},
   "outputs": [
    {
     "name": "stdout",
     "output_type": "stream",
     "text": [
      "Prediction for test set: [7.16941936 7.20231142 6.0104075  6.81220057 7.01989435 4.72335709\n",
      " 7.2042049  6.87679935 7.33034956 6.44702902 5.93964791 5.47827974\n",
      " 7.38363173 6.31923064 5.74497654 7.2008884  6.31753235 6.85944079\n",
      " 6.02685087 7.02533014 6.74912845 7.15085444 7.07427363 7.17374456\n",
      " 6.51756951 6.49212874 6.23823471 6.4958494  6.22128749 7.24435232\n",
      " 6.66195921 7.46058717 5.38545989 5.60804562 6.19559768 6.10264688\n",
      " 7.1152091  6.19075679 6.19876941 5.67316556 6.850107   5.78670279\n",
      " 5.52972624 7.27000205 6.9328598  6.83294449 4.59238834 6.7052849\n",
      " 7.30001628 6.97831219 7.41129212 6.42386335 7.18189527 7.09714499\n",
      " 7.28044719 5.88625348 6.09577019 7.00033915 6.28806768 4.99608747\n",
      " 6.5095767  7.24061478 5.19480894 6.10668477 7.14450269 7.4063683\n",
      " 6.9404341  6.20166657 6.19972607 6.13305055 5.86311476 6.31525401\n",
      " 7.10967152 7.04633738 7.0799333  7.33458758 6.19735371 5.87721162\n",
      " 6.13440892 7.38225183 5.00539045 6.19263658 6.80912245 4.84848111\n",
      " 6.6006827  7.35222894 6.80411612 5.88599865 7.22630161 6.08159494\n",
      " 7.37746683 6.60596415 7.21851913 6.32734178 7.02001023 6.63516339\n",
      " 5.85767179 5.95216378 5.83569656 5.63576187 6.19843257 6.79615496\n",
      " 6.70176509]\n"
     ]
    }
   ],
   "source": [
    "#Prediction of test set\n",
    "y_pred = model.predict(X_test)\n",
    "#Predicted values\n",
    "print(\"Prediction for test set: {}\".format(y_pred))"
   ]
  },
  {
   "cell_type": "code",
   "execution_count": 13,
   "metadata": {},
   "outputs": [],
   "source": [
    "#Actual value and the predicted value\n",
    "#model_diff = pd.DataFrame({'Actual value': y_test, 'Predicted value': y_pred})\n",
    "#model_diff.head(30)"
   ]
  },
  {
   "cell_type": "code",
   "execution_count": 14,
   "metadata": {},
   "outputs": [
    {
     "name": "stdout",
     "output_type": "stream",
     "text": [
      "           Country  Year  Happiness Score  Log GDP per capita  Social support  \\\n",
      "0        Argentina  2010            6.441              10.066           0.927   \n",
      "1        Argentina  2011            6.776              10.112           0.889   \n",
      "2        Argentina  2012            6.468              10.091           0.902   \n",
      "3        Argentina  2013            6.582              10.103           0.910   \n",
      "4        Argentina  2014            6.671              10.067           0.918   \n",
      "..             ...   ...              ...                 ...             ...   \n",
      "507  United States  2018            6.883              11.024           0.904   \n",
      "508  United States  2019            6.944              11.043           0.917   \n",
      "509  United States  2020            7.028              11.005           0.937   \n",
      "510  United States  2021            6.959              11.061           0.920   \n",
      "511  United States  2022            6.693              11.079           0.900   \n",
      "\n",
      "     Healthy life expectancy at birth  Freedom to make life choices  \\\n",
      "0                              66.300                         0.730   \n",
      "1                              66.420                         0.816   \n",
      "2                              66.540                         0.747   \n",
      "3                              66.660                         0.737   \n",
      "4                              66.780                         0.745   \n",
      "..                                ...                           ...   \n",
      "507                            66.225                         0.825   \n",
      "508                            66.100                         0.836   \n",
      "509                            65.975                         0.850   \n",
      "510                            65.850                         0.816   \n",
      "511                            65.725                         0.736   \n",
      "\n",
      "     Generosity  Perceptions of corruption  CPI %  Unemployment Rate  \\\n",
      "0        -0.129                      0.855   0.00               7.71   \n",
      "1        -0.178                      0.755   0.00               7.18   \n",
      "2        -0.151                      0.817   0.00               7.22   \n",
      "3        -0.134                      0.823   0.00               7.10   \n",
      "4        -0.168                      0.854   0.00               7.27   \n",
      "..          ...                        ...    ...                ...   \n",
      "507       0.112                      0.710   2.44               3.90   \n",
      "508       0.140                      0.707   1.81               3.67   \n",
      "509       0.029                      0.678   1.23               8.05   \n",
      "510       0.190                      0.687   4.70               5.35   \n",
      "511       0.191                      0.701   8.00               3.65   \n",
      "\n",
      "            region Development_Status  Predicted Happiness Score  \n",
      "0    South America          Developed                  21.610796  \n",
      "1    South America          Developed                  21.710231  \n",
      "2    South America          Developed                  21.721217  \n",
      "3    South America          Developed                  21.766071  \n",
      "4    South America          Developed                  21.760581  \n",
      "..             ...                ...                        ...  \n",
      "507  North America          Developed                  22.115967  \n",
      "508  North America          Developed                  22.147304  \n",
      "509  North America          Developed                  21.624534  \n",
      "510  North America          Developed                  21.815845  \n",
      "511  North America          Developed                  21.858097  \n",
      "\n",
      "[512 rows x 14 columns]\n"
     ]
    },
    {
     "name": "stderr",
     "output_type": "stream",
     "text": [
      "c:\\Users\\pm300\\anaconda3\\lib\\site-packages\\sklearn\\base.py:413: UserWarning: X has feature names, but LinearRegression was fitted without feature names\n",
      "  warnings.warn(\n"
     ]
    }
   ],
   "source": [
    "# Create a copy of the original data\n",
    "df_happiness_predicted =data.copy()\n",
    "\n",
    "# Add a column with the predicted values\n",
    "df_happiness_predicted['Predicted Happiness Score'] = model.predict(X)\n",
    "\n",
    "# Display sample data\n",
    "print(df_happiness_predicted)\n"
   ]
  },
  {
   "cell_type": "code",
   "execution_count": 15,
   "metadata": {},
   "outputs": [],
   "source": [
    "# Evaluate the model\n",
    "mse = mean_squared_error(y_test, y_pred)\n",
    "r2 = r2_score(y_test, y_pred)\n"
   ]
  },
  {
   "cell_type": "code",
   "execution_count": 16,
   "metadata": {},
   "outputs": [
    {
     "name": "stdout",
     "output_type": "stream",
     "text": [
      "Mean Squared Error: 0.13565691586692505\n",
      "R-squared: 0.7638657227464156\n"
     ]
    }
   ],
   "source": [
    "print(\"Mean Squared Error:\", mse)\n",
    "print(\"R-squared:\", r2)"
   ]
  },
  {
   "cell_type": "code",
   "execution_count": 17,
   "metadata": {},
   "outputs": [
    {
     "name": "stdout",
     "output_type": "stream",
     "text": [
      "Influential variables:\n",
      "                             Feature  Coefficient\n",
      "0                Log GDP per capita     0.097251\n",
      "1                    Social support     0.229895\n",
      "2  Healthy life expectancy at birth     0.223856\n",
      "3      Freedom to make life choices     0.095020\n",
      "4                        Generosity     0.193434\n",
      "5         Perceptions of corruption    -0.176153\n",
      "6                             CPI %    -0.033693\n",
      "7                 Unemployment Rate    -0.114201\n"
     ]
    }
   ],
   "source": [
    "# Display the coefficients of the model to identify influential variables\n",
    "coefficients = pd.DataFrame({'Feature': X.columns, 'Coefficient': model.coef_})\n",
    "print(\"Influential variables:\\n\", coefficients)"
   ]
  }
 ],
 "metadata": {
  "kernelspec": {
   "display_name": "base",
   "language": "python",
   "name": "python3"
  },
  "language_info": {
   "codemirror_mode": {
    "name": "ipython",
    "version": 3
   },
   "file_extension": ".py",
   "mimetype": "text/x-python",
   "name": "python",
   "nbconvert_exporter": "python",
   "pygments_lexer": "ipython3",
   "version": "3.10.9"
  },
  "orig_nbformat": 4
 },
 "nbformat": 4,
 "nbformat_minor": 2
}
